{
 "cells": [
  {
   "cell_type": "code",
   "execution_count": 1,
   "id": "3447ba7a-f085-4f14-ac90-8deff1f9a5d9",
   "metadata": {},
   "outputs": [],
   "source": [
    "class A:\n",
    "    prop = 'class unchanged'\n",
    "    \n",
    "    def __init__(self,val):\n",
    "        self.prop2 = val"
   ]
  },
  {
   "cell_type": "code",
   "execution_count": 2,
   "id": "519478be-2358-44a2-8dfb-f08b05965ed2",
   "metadata": {},
   "outputs": [
    {
     "name": "stdout",
     "output_type": "stream",
     "text": [
      "class unchanged\n",
      "class unchanged\n",
      "instance1 unchanged\n",
      "instance2 unchanged\n"
     ]
    }
   ],
   "source": [
    "a1 = A('instance1 unchanged')\n",
    "a2 = A('instance2 unchanged')\n",
    "print(a1.prop)\n",
    "print(a2.prop)\n",
    "print(a1.prop2)\n",
    "print(a2.prop2)\n"
   ]
  },
  {
   "cell_type": "code",
   "execution_count": 3,
   "id": "f2fe3dc5-2240-4949-8eb9-144fca562dc7",
   "metadata": {},
   "outputs": [],
   "source": [
    "a2.prop = 'class changed on a2 1'\n",
    "a2.prop2 = 'instance change 1'"
   ]
  },
  {
   "cell_type": "code",
   "execution_count": 4,
   "id": "9c7be454-b0a8-4382-9ea8-32273a096810",
   "metadata": {},
   "outputs": [
    {
     "name": "stdout",
     "output_type": "stream",
     "text": [
      "class unchanged\n",
      "class changed on a2 1\n",
      "instance1 unchanged\n",
      "instance change 1\n"
     ]
    }
   ],
   "source": [
    "print(a1.prop)\n",
    "print(a2.prop)"
   ]
  },
  {
   "cell_type": "code",
   "execution_count": 5,
   "id": "ea5794ed-dc3f-47c9-a5c3-a5636990c5c2",
   "metadata": {},
   "outputs": [
    {
     "name": "stdout",
     "output_type": "stream",
     "text": [
      "class unchanged\n"
     ]
    }
   ],
   "source": [
    "a3 = A('instance1 unchanged')\n",
    "print(a3.prop)"
   ]
  },
  {
   "cell_type": "code",
   "execution_count": 6,
   "id": "4f590e09-c907-469e-8ac1-b905b17c9390",
   "metadata": {},
   "outputs": [],
   "source": [
    "A.prop = 'class changed on A 1'"
   ]
  },
  {
   "cell_type": "code",
   "execution_count": 7,
   "id": "07df4149-17cc-461c-827d-9d25cfede607",
   "metadata": {},
   "outputs": [
    {
     "name": "stdout",
     "output_type": "stream",
     "text": [
      "class changed on A 1\n",
      "class changed on a2 1\n",
      "instance1 unchanged\n",
      "instance change 1\n"
     ]
    }
   ],
   "source": [
    "print(a1.prop)\n",
    "print(a2.prop)"
   ]
  },
  {
   "cell_type": "code",
   "execution_count": 8,
   "id": "0d218235-6ed4-45d5-bbdf-2049455f10f3",
   "metadata": {},
   "outputs": [
    {
     "name": "stdout",
     "output_type": "stream",
     "text": [
      "class changed on A 1\n",
      "class changed on A 1\n"
     ]
    }
   ],
   "source": [
    "a4 = A('instance1 unchanged')\n",
    "print(a1.prop)\n",
    "print(a2.prop)\n",
    "print(a3.prop)\n",
    "print(a4.prop)"
   ]
  },
  {
   "cell_type": "code",
   "execution_count": null,
   "id": "c77ab725-6d76-4f9e-87fb-12b287bc722c",
   "metadata": {},
   "outputs": [],
   "source": []
  }
 ],
 "metadata": {
  "kernelspec": {
   "display_name": "Python 3",
   "language": "python",
   "name": "python3"
  },
  "language_info": {
   "codemirror_mode": {
    "name": "ipython",
    "version": 3
   },
   "file_extension": ".py",
   "mimetype": "text/x-python",
   "name": "python",
   "nbconvert_exporter": "python",
   "pygments_lexer": "ipython3",
   "version": "3.8.8"
  }
 },
 "nbformat": 4,
 "nbformat_minor": 5
}
